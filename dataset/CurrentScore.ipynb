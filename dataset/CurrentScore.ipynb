{
  "nbformat": 4,
  "nbformat_minor": 0,
  "metadata": {
    "colab": {
      "name": "CurrentScore.ipynb",
      "provenance": [],
      "collapsed_sections": []
    },
    "kernelspec": {
      "name": "python3",
      "display_name": "Python 3"
    }
  },
  "cells": [
    {
      "cell_type": "markdown",
      "metadata": {
        "id": "Jqoz7nGMHyJO",
        "colab_type": "text"
      },
      "source": [
        "#Calulation of Trend Score for each product.\n",
        "For current trend prediction uncomment the commented line and comment out the fore_score json files. "
      ]
    },
    {
      "cell_type": "code",
      "metadata": {
        "id": "fKaZijgZKFvV",
        "colab_type": "code",
        "colab": {
          "base_uri": "https://localhost:8080/",
          "height": 380
        },
        "outputId": "06b6d81a-7e4a-4182-f617-39c26e6cee8c"
      },
      "source": [
        "import pandas as pd\n",
        "import json\n",
        "df = pd.read_json(r'./fashion_input.json', orient=\"records\")\n",
        "score = json.load(open(\"./final_fore_score.json\"))\n",
        "#score = json.load(open(\"./all_new_scores.json\"))\n",
        "cate_score = json.load(open(\"/content/new_fore_cate_score.json\"))\n",
        "#cate_score = json.load(open(\"/content/new_cate_score.json\"))\n",
        "df.head()"
      ],
      "execution_count": null,
      "outputs": [
        {
          "output_type": "execute_result",
          "data": {
            "text/html": [
              "<div>\n",
              "<style scoped>\n",
              "    .dataframe tbody tr th:only-of-type {\n",
              "        vertical-align: middle;\n",
              "    }\n",
              "\n",
              "    .dataframe tbody tr th {\n",
              "        vertical-align: top;\n",
              "    }\n",
              "\n",
              "    .dataframe thead th {\n",
              "        text-align: right;\n",
              "    }\n",
              "</style>\n",
              "<table border=\"1\" class=\"dataframe\">\n",
              "  <thead>\n",
              "    <tr style=\"text-align: right;\">\n",
              "      <th></th>\n",
              "      <th>Title</th>\n",
              "      <th>Title_URL</th>\n",
              "      <th>Image</th>\n",
              "      <th>Price</th>\n",
              "      <th>Category</th>\n",
              "      <th>Brand</th>\n",
              "      <th>Color</th>\n",
              "      <th>Attributes</th>\n",
              "      <th>Description</th>\n",
              "      <th>Site</th>\n",
              "      <th>Trend1</th>\n",
              "      <th>Trend2</th>\n",
              "    </tr>\n",
              "  </thead>\n",
              "  <tbody>\n",
              "    <tr>\n",
              "      <th>0</th>\n",
              "      <td>ASOS DESIGN fallen shoulder scuba jumpsuit in ...</td>\n",
              "      <td>https://www.asos.com/asos-design/asos-design-f...</td>\n",
              "      <td>https://images.asos-media.com/products/asos-de...</td>\n",
              "      <td>45.0</td>\n",
              "      <td>Jumpsuit</td>\n",
              "      <td>ASOS DESIGN</td>\n",
              "      <td>Natural blush</td>\n",
              "      <td>Jumpsuit by ASOS DESIGN, No need for a dress t...</td>\n",
              "      <td>Thick, scuba-style fabric, Super-smooth and st...</td>\n",
              "      <td>ASOS</td>\n",
              "      <td>37.658059</td>\n",
              "      <td>75.316117</td>\n",
              "    </tr>\n",
              "    <tr>\n",
              "      <th>1</th>\n",
              "      <td>ASOS DESIGN tie waist jumpsuit in stone</td>\n",
              "      <td>https://www.asos.com/asos-design/asos-design-t...</td>\n",
              "      <td>https://images.asos-media.com/products/asos-de...</td>\n",
              "      <td>35.0</td>\n",
              "      <td>Jumpsuit</td>\n",
              "      <td>ASOS DESIGN</td>\n",
              "      <td>stone</td>\n",
              "      <td>Jumpsuit by ASOS DESIGN, Part of our responsib...</td>\n",
              "      <td>Woven fabric, Lightweight, soft Lenzing™ Eco, ...</td>\n",
              "      <td>ASOS</td>\n",
              "      <td>29.601669</td>\n",
              "      <td>88.805006</td>\n",
              "    </tr>\n",
              "    <tr>\n",
              "      <th>2</th>\n",
              "      <td>Vero Moda linen playsuit with tie waist in white</td>\n",
              "      <td>https://www.asos.com/vero-moda/vero-moda-linen...</td>\n",
              "      <td>https://images.asos-media.com/products/vero-mo...</td>\n",
              "      <td>28.0</td>\n",
              "      <td>Playsuit</td>\n",
              "      <td>Vero Moda</td>\n",
              "      <td>white</td>\n",
              "      <td>Playsuit by Vero Moda, All in for the all-in-o...</td>\n",
              "      <td>Linen-rich fabric, Strong and breathable, Body...</td>\n",
              "      <td>ASOS</td>\n",
              "      <td>34.631806</td>\n",
              "      <td>103.895418</td>\n",
              "    </tr>\n",
              "    <tr>\n",
              "      <th>3</th>\n",
              "      <td>Noisy May layered jumpsuit in black</td>\n",
              "      <td>https://www.asos.com/noisy-may/noisy-may-layer...</td>\n",
              "      <td>https://images.asos-media.com/products/noisy-m...</td>\n",
              "      <td>38.0</td>\n",
              "      <td>Jumpsuit</td>\n",
              "      <td>Noisy May</td>\n",
              "      <td>black</td>\n",
              "      <td>Jumpsuit by Noisy May, An easy wardrobe win, W...</td>\n",
              "      <td>Lightweight woven fabric Soft and drapey, Lini...</td>\n",
              "      <td>ASOS</td>\n",
              "      <td>61.604622</td>\n",
              "      <td>246.418489</td>\n",
              "    </tr>\n",
              "    <tr>\n",
              "      <th>4</th>\n",
              "      <td>ASOS DESIGN satin playsuit with drape detail i...</td>\n",
              "      <td>https://www.asos.com/asos-design/asos-design-s...</td>\n",
              "      <td>https://images.asos-media.com/products/asos-de...</td>\n",
              "      <td>55.0</td>\n",
              "      <td>Playsuit</td>\n",
              "      <td>ASOS DESIGN</td>\n",
              "      <td>Lilac floral</td>\n",
              "      <td>Playsuit by ASOS DESIGN, Worth making plans fo...</td>\n",
              "      <td>Glossy, satin-style fabric Silky-smooth and dr...</td>\n",
              "      <td>ASOS</td>\n",
              "      <td>15.775663</td>\n",
              "      <td>78.878314</td>\n",
              "    </tr>\n",
              "  </tbody>\n",
              "</table>\n",
              "</div>"
            ],
            "text/plain": [
              "                                               Title  ...      Trend2\n",
              "0  ASOS DESIGN fallen shoulder scuba jumpsuit in ...  ...   75.316117\n",
              "1            ASOS DESIGN tie waist jumpsuit in stone  ...   88.805006\n",
              "2   Vero Moda linen playsuit with tie waist in white  ...  103.895418\n",
              "3                Noisy May layered jumpsuit in black  ...  246.418489\n",
              "4  ASOS DESIGN satin playsuit with drape detail i...  ...   78.878314\n",
              "\n",
              "[5 rows x 12 columns]"
            ]
          },
          "metadata": {
            "tags": []
          },
          "execution_count": 1
        }
      ]
    },
    {
      "cell_type": "markdown",
      "metadata": {
        "id": "ejXTfTHQIV8C",
        "colab_type": "text"
      },
      "source": [
        "Searching through the attribute and description string for keywords in 3 differnt pattern (key words, key-words and keywords). If the keyword is found, it is removed from the string and appended to the product list. Finally, the length is appended in the attr_len list and current score in cur_score list."
      ]
    },
    {
      "cell_type": "code",
      "metadata": {
        "id": "4uoHkUg4LAQf",
        "colab_type": "code",
        "colab": {
          "base_uri": "https://localhost:8080/",
          "height": 35
        },
        "outputId": "87ab8ea5-6320-468b-eec8-544d6f2211b3"
      },
      "source": [
        "import numpy as np\n",
        "cur_score = list()\n",
        "attr_len = list()\n",
        "\n",
        "for i in range(len(df[\"Category\"])):\n",
        "\n",
        "  prod_score = list()\n",
        "  stri = df[\"Attributes\"][i].lower().replace(\"\\\\xa0\",\" \")\n",
        "  \n",
        "  if type(df[\"Description\"][i]) != type(None):\n",
        "    stri2 = df[\"Description\"][i].lower().replace(\"\\\\xa0\",\" \")\n",
        "\n",
        "    for key in score:\n",
        "      if key.lower() in stri or \"-\".join(key.lower().split()) in stri or \"\".join(key.lower().split()) in stri or key.lower() in stri2 or \"-\".join(key.lower().split()) in stri2 or \"\".join(key.lower().split()) in stri2:\n",
        "        for word in [key.lower(),\"-\".join(key.lower().split()),\"\".join(key.lower().split())]:\n",
        "          stri = stri.replace(word,\"\")\n",
        "          stri2 = stri2.replace(word,\"\")\n",
        "        prod_score.append(score[key])\n",
        "\n",
        "  else:\n",
        "    for key in score:\n",
        "      if key.lower() in stri or \"-\".join(key.lower().split()) in stri or \"\".join(key.lower().split()) in stri:\n",
        "        for word in [key.lower(),\"-\".join(key.lower().split()),\"\".join(key.lower().split())]:\n",
        "          stri = stri.replace(word,\"\")\n",
        "        prod_score.append(score[key])\n",
        "  prod_score.append(cate_score[df[\"Category\"][i]])\n",
        "  \n",
        "  attr_len.append(len(prod_score))\n",
        "  \n",
        "  cur_score.append(sum(prod_score)/len(prod_score))\n",
        "print(len(cur_score))"
      ],
      "execution_count": null,
      "outputs": [
        {
          "output_type": "stream",
          "text": [
            "1477\n"
          ],
          "name": "stdout"
        }
      ]
    },
    {
      "cell_type": "markdown",
      "metadata": {
        "id": "RvMjoIjIFkle",
        "colab_type": "text"
      },
      "source": [
        "Average nuber of attribute per product"
      ]
    },
    {
      "cell_type": "code",
      "metadata": {
        "id": "21IsmZu1PZkz",
        "colab_type": "code",
        "colab": {
          "base_uri": "https://localhost:8080/",
          "height": 35
        },
        "outputId": "dcc35c4d-9516-44db-c036-0db34550b258"
      },
      "source": [
        "print(sum(attr_len)/1477)"
      ],
      "execution_count": null,
      "outputs": [
        {
          "output_type": "stream",
          "text": [
            "5.374407582938389\n"
          ],
          "name": "stdout"
        }
      ]
    },
    {
      "cell_type": "markdown",
      "metadata": {
        "id": "ck1iPMgKJN7r",
        "colab_type": "text"
      },
      "source": [
        "#Graphical Visualization\n",
        "Before correction"
      ]
    },
    {
      "cell_type": "code",
      "metadata": {
        "id": "jK3TOrk-TMnu",
        "colab_type": "code",
        "colab": {
          "base_uri": "https://localhost:8080/",
          "height": 265
        },
        "outputId": "a3e120a6-75ca-490a-f31e-a604bdaf1ba6"
      },
      "source": [
        "import numpy as np\n",
        "import scipy.stats as stats\n",
        "import pylab as pl\n",
        "\n",
        "sample_score = cur_score\n",
        "h = sorted(sample_score)  #sorted\n",
        "\n",
        "pl.hist(h, color = \"blue\", rwidth=0.75)      #use this to draw histogram of your data\n",
        "\n",
        "pl.show()"
      ],
      "execution_count": null,
      "outputs": [
        {
          "output_type": "display_data",
          "data": {
            "image/png": "[encoded data removed]",
            "text/plain": [
              "<Figure size 432x288 with 1 Axes>"
            ]
          },
          "metadata": {
            "tags": [],
            "needs_background": "light"
          }
        }
      ]
    },
    {
      "cell_type": "code",
      "metadata": {
        "id": "GOYQlqF1MFwF",
        "colab_type": "code",
        "colab": {
          "base_uri": "https://localhost:8080/",
          "height": 380
        },
        "outputId": "c8d95b44-e816-47d2-9096-7ba510777f03"
      },
      "source": [
        "df.insert(10,\"Current Trend\",cur_score)\n",
        "df.head()"
      ],
      "execution_count": null,
      "outputs": [
        {
          "output_type": "execute_result",
          "data": {
            "text/html": [
              "<div>\n",
              "<style scoped>\n",
              "    .dataframe tbody tr th:only-of-type {\n",
              "        vertical-align: middle;\n",
              "    }\n",
              "\n",
              "    .dataframe tbody tr th {\n",
              "        vertical-align: top;\n",
              "    }\n",
              "\n",
              "    .dataframe thead th {\n",
              "        text-align: right;\n",
              "    }\n",
              "</style>\n",
              "<table border=\"1\" class=\"dataframe\">\n",
              "  <thead>\n",
              "    <tr style=\"text-align: right;\">\n",
              "      <th></th>\n",
              "      <th>Title</th>\n",
              "      <th>Title_URL</th>\n",
              "      <th>Image</th>\n",
              "      <th>Price</th>\n",
              "      <th>Category</th>\n",
              "      <th>Brand</th>\n",
              "      <th>Color</th>\n",
              "      <th>Attributes</th>\n",
              "      <th>Description</th>\n",
              "      <th>Site</th>\n",
              "      <th>Trend1</th>\n",
              "      <th>Trend2</th>\n",
              "    </tr>\n",
              "  </thead>\n",
              "  <tbody>\n",
              "    <tr>\n",
              "      <th>0</th>\n",
              "      <td>ASOS DESIGN fallen shoulder scuba jumpsuit in ...</td>\n",
              "      <td>https://www.asos.com/asos-design/asos-design-f...</td>\n",
              "      <td>https://images.asos-media.com/products/asos-de...</td>\n",
              "      <td>45.0</td>\n",
              "      <td>Jumpsuit</td>\n",
              "      <td>ASOS DESIGN</td>\n",
              "      <td>Natural blush</td>\n",
              "      <td>['Jumpsuit by ASOS DESIGN', 'No need for a dre...</td>\n",
              "      <td>Thick, scuba-style fabric, Super-smooth and st...</td>\n",
              "      <td>ASOS</td>\n",
              "      <td>37.658059</td>\n",
              "      <td>75.316117</td>\n",
              "    </tr>\n",
              "    <tr>\n",
              "      <th>1</th>\n",
              "      <td>ASOS DESIGN tie waist jumpsuit in stone</td>\n",
              "      <td>https://www.asos.com/asos-design/asos-design-t...</td>\n",
              "      <td>https://images.asos-media.com/products/asos-de...</td>\n",
              "      <td>35.0</td>\n",
              "      <td>Jumpsuit</td>\n",
              "      <td>ASOS DESIGN</td>\n",
              "      <td>stone</td>\n",
              "      <td>['Jumpsuit by ASOS DESIGN', 'Part of our respo...</td>\n",
              "      <td>Woven fabric, Lightweight, soft Lenzing™ Eco, ...</td>\n",
              "      <td>ASOS</td>\n",
              "      <td>29.601669</td>\n",
              "      <td>88.805006</td>\n",
              "    </tr>\n",
              "    <tr>\n",
              "      <th>2</th>\n",
              "      <td>Vero Moda linen playsuit with tie waist in white</td>\n",
              "      <td>https://www.asos.com/vero-moda/vero-moda-linen...</td>\n",
              "      <td>https://images.asos-media.com/products/vero-mo...</td>\n",
              "      <td>28.0</td>\n",
              "      <td>Playsuit</td>\n",
              "      <td>Vero Moda</td>\n",
              "      <td>white</td>\n",
              "      <td>['Playsuit by Vero Moda', 'All in for the all-...</td>\n",
              "      <td>Linen-rich fabric, Strong and breathable, Body...</td>\n",
              "      <td>ASOS</td>\n",
              "      <td>34.631806</td>\n",
              "      <td>103.895418</td>\n",
              "    </tr>\n",
              "    <tr>\n",
              "      <th>3</th>\n",
              "      <td>Noisy May layered jumpsuit in black</td>\n",
              "      <td>https://www.asos.com/noisy-may/noisy-may-layer...</td>\n",
              "      <td>https://www.asos.com/noisy-may/noisy-may-layer...</td>\n",
              "      <td>38.0</td>\n",
              "      <td>Jumpsuit</td>\n",
              "      <td>Noisy May</td>\n",
              "      <td>Lilac floral</td>\n",
              "      <td>['Jumpsuit by Noisy May', 'An easy wardrobe wi...</td>\n",
              "      <td>Lightweight woven fabric Soft and drapey, Lini...</td>\n",
              "      <td>ASOS</td>\n",
              "      <td>61.604622</td>\n",
              "      <td>246.418489</td>\n",
              "    </tr>\n",
              "    <tr>\n",
              "      <th>4</th>\n",
              "      <td>ASOS DESIGN satin playsuit with drape detail i...</td>\n",
              "      <td>https://www.asos.com/asos-design/asos-design-s...</td>\n",
              "      <td>https://images.asos-media.com/products/asos-de...</td>\n",
              "      <td>55.0</td>\n",
              "      <td>Playsuit</td>\n",
              "      <td>ASOS DESIGN</td>\n",
              "      <td>Lilac floral</td>\n",
              "      <td>['Playsuit by ASOS DESIGN', 'Worth making plan...</td>\n",
              "      <td>Glossy, satin-style fabric Silky-smooth and dr...</td>\n",
              "      <td>ASOS</td>\n",
              "      <td>15.775663</td>\n",
              "      <td>78.878314</td>\n",
              "    </tr>\n",
              "  </tbody>\n",
              "</table>\n",
              "</div>"
            ],
            "text/plain": [
              "                                               Title  ...      Trend2\n",
              "0  ASOS DESIGN fallen shoulder scuba jumpsuit in ...  ...   75.316117\n",
              "1            ASOS DESIGN tie waist jumpsuit in stone  ...   88.805006\n",
              "2   Vero Moda linen playsuit with tie waist in white  ...  103.895418\n",
              "3                Noisy May layered jumpsuit in black  ...  246.418489\n",
              "4  ASOS DESIGN satin playsuit with drape detail i...  ...   78.878314\n",
              "\n",
              "[5 rows x 12 columns]"
            ]
          },
          "metadata": {
            "tags": []
          },
          "execution_count": 117
        }
      ]
    },
    {
      "cell_type": "markdown",
      "metadata": {
        "id": "4-O3_wkdJZlt",
        "colab_type": "text"
      },
      "source": [
        "#Correction term\n",
        "Finding the mean of current score."
      ]
    },
    {
      "cell_type": "code",
      "metadata": {
        "id": "J4KWaKKGfTbR",
        "colab_type": "code",
        "colab": {
          "base_uri": "https://localhost:8080/",
          "height": 35
        },
        "outputId": "04302c84-46ca-4bc2-f817-d10bc3737c05"
      },
      "source": [
        "from statistics import mean\n",
        "avg = mean(cur_score)\n",
        "print(round(avg,2))"
      ],
      "execution_count": null,
      "outputs": [
        {
          "output_type": "stream",
          "text": [
            "40.86\n"
          ],
          "name": "stdout"
        }
      ]
    },
    {
      "cell_type": "markdown",
      "metadata": {
        "id": "yaLVInhTJgcG",
        "colab_type": "text"
      },
      "source": [
        "Applying the correction term the old score"
      ]
    },
    {
      "cell_type": "code",
      "metadata": {
        "id": "nhGyptqJyRjw",
        "colab_type": "code",
        "colab": {
          "base_uri": "https://localhost:8080/",
          "height": 55
        },
        "outputId": "966ce47f-9731-4937-c709-2e98be93672e"
      },
      "source": [
        "import math\n",
        "for i in range(len(attr_len)):\n",
        "  cur_score[i] = cur_score[i] - (cur_score[i]-avg)/math.exp((attr_len[i] - 1)**2)\n",
        "print(cur_score)"
      ],
      "execution_count": null,
      "outputs": [
        {
          "output_type": "stream",
          "text": [
            "[25.754814700800875, 53.22380714325711, 25.100633390752584, 60.0328562829195, 15.323757638000005, 26.733749196080744, 41.192369551750005, 65.75675635228754, 53.85923476561913, 59.686288022680614, 30.00533211755, 43.695563025359846, 42.102791408725, 47.6108980318125, 55.43486193301422, 50.225816077553226, 71.56498925867142, 26.827143611780002, 42.741658414557165, 67.01610847543672, 54.655312527375045, 47.2729656257, 69.61326469360644, 53.9773143428875, 23.843298248775, 61.25061499106679, 31.365970743912825, 36.89910623050039, 58.98307557543676, 40.07327333760001, 50.56140734159077, 64.54086342928572, 45.6929814196569, 47.15645001576252, 80.81500670821194, 33.9523487593625, 32.05735173574079, 54.655312527375045, 25.059152828555554, 30.557433542657144, 31.465430028047106, 53.9773143428875, 50.08620623968761, 46.660003127119424, 55.5989125634286, 73.80802354386846, 11.336176380103902, 82.11377348034902, 45.56111921241801, 20.71564508907028, 42.64469956898571, 63.39513546058477, 34.93223826496562, 46.046015939642864, 32.38162093138571, 21.04290936842047, 21.236654544357318, 49.79243899412981, 59.37551625429305, 55.43486193301422, 31.955581422140877, 46.38407353591261, 27.573621688000458, 53.22380714325711, 62.31048666994594, 44.22380153139638, 18.77923544808241, 48.3939435662, 14.85430749599412, 43.44962414338437, 13.050911800972942, 36.86249250098571, 27.573621688000458, 36.73504906147392, 21.910066884138345, 57.3094118174537, 56.53772070897029, 38.40108735317465, 44.09385086858613, 59.37551625429305, 16.1252356478, 32.0632763488, 20.1904523760125, 46.66130571456943, 29.242388189850587, 19.384781747557142, 43.574013326578935, 17.931879270637545, 48.848848273853925, 27.425530303328575, 22.544217046081815, 43.799175194325805, 58.39739660605584, 46.72524457584286, 54.803715755140004, 23.89266555968262, 37.239187008183585, 45.257706864138896, 43.94430325134584, 44.18658066672043, 41.27387204651513, 32.52907496772268, 53.55469398222627, 22.149580233981055, 47.647245406354095, 36.73470105635725, 39.90850650381318, 4.438034466813666, 18.77923544808241, 52.707202047185426, 53.47625610832857, 60.53783149837732, 75.84291378887026, 48.29053532318011, 35.74576627253171, 29.38450529735741, 59.657217087172114, 46.12997746158256, 49.60553073184518, 3.6660101154930844, 30.26869633909741, 22.125718637086326, 51.15443359585445, 31.69376987292877, 22.67229355153453, 41.70681950478347, 29.400521600524996, 39.14300847680282, 24.819367011190003, 76.55725083699461, 22.945512873328575, 60.91000175337151, 25.66191114802024, 67.98375508082327, 47.49897891908889, 3.852962009294417, 10.655371885383946, 41.14414465522306, 31.5523189097421, 34.61735617527778, 44.96742886758751, 47.2254759992982, 44.79027454281062, 42.51207024767702, 46.171871033471426, 25.754814700800875, 50.632620670099996, 47.46058646994286, 32.63546133363085, 21.949962231975, 64.16885629811428, 38.11801472129999, 38.07297633552201, 39.79904045362269, 32.56215084294283, 4.052652872354661, 15.18057022633024, 36.18893609046829, 24.103292267882686, 43.602955438971435, 47.757097244374336, 22.201218300562502, 25.231158135475106, 38.366073553134946, 61.34440613492398, 54.79441478144206, 33.353016911607085, 48.16003159011004, 71.56689072087369, 52.381760415317, 39.463235005212496, 33.465108528982974, 16.966069593015135, 61.040152795419715, 23.20919366514665, 11.894272374164046, 29.58257028947143, 0.5613705533753782, 20.99051056319718, 38.638386348270174, 65.5904973977293, 30.973019479419474, 33.26226075297702, 34.440623803844446, 27.533591021459994, 57.149359643062866, 19.693176709975, 59.611108585011216, 12.60397951305715, 37.84692082047514, 40.13337061453295, 23.097906780496647, 65.83537323217341, 51.781979428181614, 28.276633212610403, 5.889924834544424, 44.999903176913925, 77.13749786576545, 63.387341503521874, 20.234286973375, 41.875126388601345, 30.851309445744302, 49.48194315581841, 19.147507065839925, 43.44962414338437, 71.75727876178543, 21.5446627410875, 32.5082369148, 40.08131889417064, 1.8187454068031725, 41.42336272103551, 46.089105180417484, 50.64544208582116, 43.9858514743875, 51.46561810347525, 60.35091282497623, 13.822444942560002, 58.272520597079186, 54.33982698356561, 33.787815447390074, 45.7028420352018, 53.22250021345768, 23.0701138193637, 74.16394103351813, 17.33882078054077, 56.212529242792556, 34.0556856880832, 44.66234941433049, 64.16885629811428, 34.85936667280286, 56.12480949257227, 49.717713468560284, 41.0165500732, 44.33311639069266, 60.26092217557406, 66.9250246846787, 33.00901087281299, 39.68239917938571, 67.83481057772215, 16.179950550274075, 1.1492322181652235, 48.703641918391035, 31.164739249550003, 30.635349359433437, 25.460838332763828, 23.90337589195241, 15.572707607910651, 28.475985218757888, 16.887073853566235, 41.938682389282484, 12.815432543224613, 33.633773619325176, 56.93953763155605, 8.706541907715895, 60.21914302209999, 41.09543031406073, 36.03588486235714, 33.65287683171673, 32.34764190572028, 62.06205873467073, 80.81784584651876, 29.51612787704084, 34.44752274874979, 38.28127852261737, 38.31457518191397, 47.21646753737143, 41.227467492128575, 49.45035708598067, 37.107685571502074, 42.999774935464025, 6.395611482354, 27.01285940879103, 57.891391368995414, 49.84103296529823, 22.42824930630098, 2.654795482590383, 39.18255595168571, 46.707831978502085, 46.84620039958228, 48.39397143935627, 44.01010987248226, 47.03437234291549, 25.062484814741946, 42.51207024767702, 3.219852305769527, 1.2031677209860279, 72.77847976260837, 33.00901087281299, 41.1060541757907, 41.52400919291428, 39.612471107391364, 40.96217938882169, 45.46414909941925, 45.35085558097093, 20.58285277496418, 22.62794779590317, 36.40388549359518, 45.051174866311115, 22.372751038954913, 39.79904045362269, 20.825553817780616, 37.283029085696285, 19.03249126478325, 33.52606380480635, 26.93777108349949, 8.374895316734655, 29.556160234380187, 24.831004939522575, 44.497322364316126, 47.81671275421559, 26.849796135477938, 30.62476726565878, 61.50161493559375, 41.27387204651513, 29.409041799764832, 32.13287092235746, 55.95777954830902, 36.7320443554959, 69.48670592172992, 28.80846294141778, 31.164758104436327, 14.85430749599412, 39.76596494166516, 43.907600091212146, 65.4792577629651, 46.20601260099276, 19.957014661229167, 43.24562746390017, 58.4960337906375, 49.53105033913755, 39.471091261461574, 52.847793230433474, 43.602955438971435, 29.192280500717757, 29.192280500717757, 34.31164774397494, 57.68380928324965, 36.22471744211434, 35.738653098937704, 31.853575821680096, 49.16389386767143, 29.875582124624543, 70.70335260091318, 57.43588761839163, 44.853986201711166, 15.535215624425001, 54.8122232606444, 42.0690173318797, 53.54479378632381, 40.32147235789078, 44.13843084168571, 52.54568706541429, 63.55561981775172, 48.12996613168334, 16.644636404185782, 50.75327123940001, 20.825553817780616, 3.5014778351034455, 41.94396473588571, 53.101217244728566, 55.617699433579276, 56.87409949354423, 27.392516766253667, 54.63568210783149, 48.756092084, 39.07239037054944, 45.1891194858342, 55.399090108981234, 32.48529097774961, 27.876097321442863, 50.8328414879, 24.58530926555932, 35.83315378611199, 51.48352026209212, 33.602818649150755, 55.715770406463555, 11.472552693327536, 47.42714327885656, 47.98327854070241, 28.181472371771434, 35.9542554409181, 48.36311814303566, 33.00901087281299, 60.42223350642857, 71.78723213569928, 35.40382110713257, 42.935377774385934, 45.468983379648044, 32.10574983745715, 8.693654269413356, 24.87228572625534, 55.398913106881146, 27.4331176235031, 33.602900597739506, 56.62477928485714, 62.97073530678571, 47.51604951438677, 20.825553817780616, 65.39183574282573, 47.72098900541778, 20.2925048644613, 67.79145274184475, 27.504615357411176, 46.38716178764312, 39.46456821537564, 9.337366379405944, 47.41707533322864, 42.75742565399028, 14.900765476712499, 67.59311491374437, 86.1081815535526, 41.71173062295459, 43.79843795001428, 57.073555817668975, 46.09201100273218, 33.08449128984129, 49.79370905417373, 35.02379761019859, 28.855711706149997, 61.81742428351279, 33.63610618161429, 44.0673333121263, 67.86234222957702, 51.91635534273144, 46.10067806364286, 44.48942799458165, 13.535340853774686, 42.075597303782985, 37.81351042097561, 41.31426202557143, 9.929538201196193, 42.53343921240468, 48.6764135838389, 18.967409261336222, 35.74576627253171, 52.314108122105644, 43.35980395732456, 50.79644040739531, 46.28316599464131, 43.907364531310535, 37.685598037075, 76.57801369236344, 61.69972112593854, 28.855711706149997, 55.0917849963126, 24.713117023907362, 18.28789020569707, 28.156635681287497, 17.755215693571433, 52.14904329443793, 36.271886508157145, 60.225325393050824, 63.59336386455709, 42.9091125452832, 48.16853120919846, 67.28095930058593, 49.59846527524664, 55.53875913493847, 10.83904319697446, 46.9519532357125, 8.154541549222271, 37.67714242496393, 42.158528539322226, 65.32395586616022, 31.847155785600002, 46.86683596629987, 37.591838695603606, 29.48190569743564, 41.555462513696455, 13.320501265483593, 76.57801369236344, 46.8747963872831, 57.619779495700634, 55.553336391915, 61.513135726563135, 55.37458977650909, 19.599187665938924, 31.294111886371628, 58.23420517987103, 46.619046225125, 5.189181986907842, 63.8290457467904, 25.84604150084181, 45.324796788308255, 21.218138564866027, 23.20919366514665, 4.761887598399401, 58.223343788656095, 21.706061672432504, 17.332526694343382, 44.105553490354595, 40.963741667843266, 38.96502131003769, 39.89831254482999, 59.686288022680614, 39.49803565518555, 32.31755022878243, 41.938682389282484, 29.875582124624543, 17.118146400874405, 42.158528539322226, 55.24261791170023, 61.25841838632063, 71.37153455571921, 47.968911634200005, 29.663868143564187, 56.575946094600695, 19.399488353943163, 58.9143934671859, 56.36687469212387, 21.714541185029788, 45.73604306497178, 25.548624965351383, 46.365809471905365, 30.06861921787052, 37.50382965340772, 50.98342075128572, 50.46147517264403, 50.14983855074674, 34.13283691729725, 35.757544486967454, 67.32410494781746, 51.615806951997456, 40.79317950906756, 43.90065869823937, 51.53434304464127, 67.38430791532251, 38.91239928185407, 68.29218283139684, 32.632563228457144, 26.58448082903156, 54.1368350581995, 38.64936937825, 33.04879102926034, 28.500380005312618, 38.4637115743375, 37.6627345644375, 35.4986694465988, 38.89287564199117, 15.138613915557148, 32.512394809679776, 15.995372035696667, 51.28933261848402, 49.82215260350294, 59.80890578634894, 25.068143382602617, 28.441631656196574, 47.40570583670905, 60.03936151308743, 22.312176707207936, 40.07728658122327, 47.3063403932125, 50.87550858656333, 62.941611944389365, 52.367610010614285, 32.99426375277257, 49.31300511239855, 32.17016799453075, 17.833489410884525, 40.85751600110024, 54.36396983280032, 47.04182421191178, 80.81784584651876, 67.22198140225052, 55.15139414912577, 51.162273876325, 59.55172956649999, 59.11472359220323, 16.269003880872816, 19.548868842228572, 21.28061535151639, 42.47507486878572, 34.184672875575, 48.059936835071426, 4.33736803082599, 60.355031323105806, 23.600548468263064, 40.07350780610851, 39.69880284514943, 47.723478487858266, 47.27237782585656, 40.464924388222116, 29.598249397283674, 54.063298282175005, 38.567150404326725, 56.915144709124505, 25.244099560508463, 24.783028355673242, 47.27237782585656, 46.819732666760835, 30.143723431648795, 42.075597303782985, 39.412787084493466, 62.06205873467073, 79.25499326603834, 50.31626515894286, 34.01516284651169, 53.816081115370025, 20.44098568653797, 42.5806139530375, 34.7427937329, 37.60761953812847, 78.19686832819681, 46.652785193828294, 37.159884551384685, 34.68156027733221, 66.86653197609337, 30.724679450457394, 32.21117501757761, 27.11226193377423, 43.33532396971942, 18.699943735184878, 25.329610967495704, 85.41406922722584, 58.27147151698148, 43.9129870514409, 46.50785281675365, 45.939657374600266, 55.5998967350599, 71.56689072087369, 56.978965229599474, 73.58656839536995, 44.166311482369274, 63.41100421355898, 45.99507116701898, 51.15443359585445, 57.336406386804484, 54.38301897208499, 55.38968020593561, 54.04986922306679, 41.27387204651513, 80.24048509922339, 48.811299389799494, 29.61779249918572, 48.624536251958794, 71.56689072087369, 33.98331174451429, 25.29401625104286, 27.248931323176947, 43.833867165895754, 31.761443958166534, 55.71151577216236, 40.90447801871601, 44.561919459964265, 36.234379367425554, 41.27387204651513, 59.04767762585464, 32.998016743730226, 40.619061640454504, 20.451737117508152, 24.911436321432664, 30.932972289620384, 63.59336386455709, 27.54347867298581, 43.40263424586465, 63.59336386455709, 46.43833828698376, 74.85829647634765, 27.360365543284352, 39.890553434038615, 46.106115883293775, 23.159126446679128, 36.960112818670794, 32.4860034031302, 40.081768244669725, 24.80331485310254, 19.03249126478325, 72.37454706719998, 43.019163606618584, 87.2417876679013, 30.28720471191417, 44.166311482369274, 68.73845559872795, 27.237700630372487, 32.88393760583333, 36.92952436578379, 25.211062037133967, 29.477352792268796, 52.958373575467725, 47.47198840833037, 23.716021979690765, 24.687514725813653, 45.54412175569127, 35.7308983508212, 57.96798375492743, 29.158414692979143, 26.587610887476597, 59.948251084868204, 42.72531131972066, 53.54794914087223, 55.83830465764657, 30.458281459014692, 48.03689951688149, 54.74403369017698, 45.24511105100573, 56.23642417067169, 43.981617370348665, 40.63775391526972, 30.845856566379627, 14.66637735270076, 68.29218283139684, 51.81686193636796, 46.38716178764312, 27.248931323176947, 46.32421138387787, 21.338240515465326, 21.661527262200003, 51.35889712442511, 30.579405091692742, 27.402905418717122, 4.833442734374959, 8.821346099196385, 81.98123803809423, 63.19807135192142, 41.35438686322455, 14.373429256108503, 43.52426510043689, 68.08335807891288, 27.248931323176947, 43.22267787457778, 87.2417876679013, 23.841737571753814, 59.386251039399994, 20.40939012793398, 52.61383935068051, 66.2617795134378, 26.655462909180564, 51.41048448466058, 35.185425399929784, 54.18677557196927, 26.57833328988164, 46.55477160421429, 46.90052034722937, 44.141581256832325, 46.4509922048371, 39.89744824176334, 59.85813467566182, 23.09708453343348, 34.51435467386483, 15.414457713437995, 29.601668209642863, 49.47449614686577, 30.973691511938043, 36.8304421697574, 26.85578221732779, 34.13283691729725, 51.79622931426612, 26.018678234571393, 16.202430044145494, 43.27692696165714, 87.2417876679013, 51.108230545933914, 52.16352071439664, 41.901295774338045, 25.5555114367884, 34.8467376455596, 60.5071420085287, 44.14044702840441, 42.74297065044001, 65.69242822867176, 72.77847976260837, 35.75898975071073, 49.7029957567182, 40.91736416670498, 28.401985847639647, 46.669959000935634, 26.140200190671436, 30.116647712873284, 46.77215424367508, 51.456990743641335, 75.8394548825861, 20.304426686268975, 60.16786875282612, 52.79398070351503, 43.5980771333786, 15.250154518569222, 72.01320656735899, 45.276786661908545, 54.390849517952944, 44.93259028262053, 48.09055791089229, 70.15650134429245, 57.21120338924627, 34.61192888605714, 38.97378259774283, 57.066594636959366, 56.46487912069594, 32.387058875164485, 36.730728270985715, 62.58753369651488, 50.93253384322857, 38.95686475480973, 60.34579069604814, 52.5303770187524, 34.19589738679315, 47.2254759992982, 10.885504977182917, 51.09247669188678, 40.294435573057825, 37.52468592067248, 29.458979287128656, 42.26208030533709, 52.201099193747744, 49.02423093170325, 67.46191569396828, 65.4792577629651, 20.911061860481023, 51.765797061604836, 47.147928972029305, 33.575825554728574, 66.05558495676674, 67.28208067812989, 38.64167342119744, 23.1937405079002, 47.61124466042788, 53.60360931007517, 55.43486193301422, 54.19006798521876, 34.94366701677143, 26.06993621728306, 60.632403302324015, 15.441744896626318, 7.446101166159828, 33.9137511575671, 68.29218283139684, 26.138308063354422, 52.605170135354896, 54.98944782864286, 27.88724061843013, 44.91772293494286, 37.94223354566686, 54.334221839096394, 73.58656839536995, 56.09384461487691, 56.76442163327556, 28.329708609907318, 38.03515243911429, 19.32111841010254, 58.12907059748237, 39.8609806661053, 34.00275831393894, 14.346057810334853, 55.715770406463555, 40.565812335312046, 43.95229955096234, 27.248931323176947, 40.48552468494211, 44.404978816384066, 33.89679155028642, 54.393146570305284, 11.093652425196693, 41.938682389282484, 23.915731931185285, 47.58635322420904, 19.41879290705072, 41.863137946069365, 44.73950077537304, 70.17906306972405, 44.91772293494286, 46.24919669819115, 40.85751600110024, 50.06255845300449, 31.92918528305733, 56.097661895075, 61.25831481943335, 33.063231180131304, 17.378389226441143, 50.14487736703768, 38.58975874548249, 34.22945923824421, 16.2948900020625, 40.013112684642856, 29.086154188532415, 1.4730853497509584, 47.30264364273635, 62.88291491689411, 56.55486082321636, 3.076507003148443, 31.29213422571618, 70.15690613808765, 32.75239535463214, 53.710880916762505, 15.730659153622234, 65.7948592483114, 36.56848623698677, 46.50785281675365, 35.547805183009295, 6.842617752756456, 51.64433702942308, 47.41707533322864, 40.62011191733663, 75.8394548825861, 61.154141215475484, 81.91233698966873, 31.120087380387496, 27.248931323176947, 51.29014557035714, 43.75700262755891, 30.7743984448567, 45.73148873873966, 42.19947505137232, 31.04927012813279, 56.64728144891405, 33.58031774077143, 55.715770406463555, 33.6773631966725, 30.712116751598973, 22.687957749985667, 37.2740322902331, 59.6165818425418, 53.18238272747883, 43.727862358026805, 53.22250021345768, 31.884811983493965, 27.745247802932106, 41.15442668228889, 70.17906306972405, 56.90985881708592, 46.458717478687745, 19.017851489627382, 29.377866446626097, 33.0441488875, 36.50911540474991, 19.62554437596104, 30.651401369124997, 63.24110793211428, 32.333561938742854, 43.93488727440047, 5.230822306169453, 45.923080974629656, 37.538976011212526, 23.46135186785847, 48.19263750728943, 38.83258397211611, 48.347584523854934, 39.17131590294341, 25.12330597748518, 42.72531131972066, 24.532765138237064, 58.37966054295507, 56.212529242792556, 68.73845559872795, 30.608405409505586, 63.17033614563141, 45.04898009959627, 38.38158787781762, 45.44110538643634, 28.771941235549868, 28.875522089629225, 52.963863732429886, 46.797338861499945, 65.69242822867176, 57.37598783115714, 54.20105840270196, 36.86326201071429, 30.029341578750383, 44.682548140320726, 68.65435438881758, 37.34982642395851, 42.19947505137232, 31.719990708713166, 59.54782975985714, 35.24318813624944, 50.951366760332206, 40.85751600110024, 27.248931323176947, 45.84910443889066, 23.604800780596264, 42.210099851200006, 40.225863962525445, 47.88236033391783, 37.50790919036602, 21.145396822987024, 26.923372186721487, 53.633355767692564, 39.701963285725, 35.4986694465988, 41.831331791803144, 15.410366740224244, 54.59712003224252, 55.124012801742865, 16.016929525096952, 37.8275499465778, 32.22296401098976, 87.2417876679013, 29.197559206895427, 33.29423802403119, 20.651743453230615, 49.804360815937486, 47.084690302242855, 23.407429011938902, 21.866948931667025, 32.758426884225, 65.60246872746211, 63.17729732634101, 36.234379367425554, 38.047456817030536, 42.18821329849819, 37.34378127799879, 29.875582124624543, 25.863403771208237, 47.90384223923548, 37.56423488882906, 38.28092358127732, 58.15346657710344, 26.858065064030832, 39.27708908857363, 50.46492749836578, 17.7876235985125, 40.70626310211877, 23.1794994894984, 45.78911449419818, 49.503692492705724, 41.62211893340605, 36.762026471126774, 18.092750574717144, 23.152701387480107, 32.788160486586435, 19.17676822792324, 37.85588956102627, 27.93595348872312, 36.27326871344286, 26.73275954496667, 70.15650134429245, 45.574042414507886, 43.35980395732456, 26.305395015405754, 46.118151506623626, 65.94605204097142, 63.17729732634101, 26.74909596999948, 8.421513061569918, 57.78410695653159, 19.372486741633654, 57.85264391705107, 70.06574646498056, 45.46829804471052, 60.61394278032563, 47.27237782585656, 49.584870206242854, 12.600240457157797, 4.632902787628736, 13.332162547482268, 36.061653395964434, 29.9922536105, 14.66637735270076, 15.589300614150922, 67.67479298112475, 68.65672067655129, 29.696195226561333, 54.774321054211065, 68.29218283139684, 75.8394548825861, 40.79039680377327, 75.0935187268636, 26.873682233153353, 59.04767762585464, 58.56700661558738, 44.41636851888571, 38.73137285168592, 53.86463961038091, 43.91100105709024, 50.56140734159077, 56.78032579981489, 31.659525340311077, 37.1166221647, 8.64054198040321, 44.35139820301815, 46.90959085064414, 67.21629439751726, 44.488514413470824, 59.85249321755713, 42.17305873563173, 44.90838074421518, 62.69509478444398, 32.98679829402598, 38.12978132205, 4.003620177466789, 58.20214907613846, 28.32992881765732, 43.0940662671694, 49.291788457057145, 43.561234271300314, 54.390849517952944, 4.122559182615803, 36.25047929539731, 56.25691212844286, 27.248931323176947, 61.921327717231776, 24.532765138237064, 8.527747452320265, 45.125182842232476, 21.07938827221531, 40.62636182769298, 54.560845735713215, 4.501552031985218, 52.16527901252857, 26.391911555161034, 30.679141476375, 19.632780090509634, 35.47975623506721, 14.663551544113778, 35.313583618927474, 13.301217581053205, 29.875582124624543, 39.09824713475714, 48.771868415796874, 17.811169207244955, 39.125930615244286, 18.520887268676873, 45.36103884201719, 42.537685980426666, 23.43480382922609, 31.04927012813279, 59.37551625429305, 56.332126134169584, 42.19947505137232, 52.133719235950366, 33.50908393091429, 47.21536101547999, 36.560188486722225, 39.04531090188182, 36.61913053805455, 37.886716817141256, 36.90536102338, 34.3351639164, 39.63251489699091, 30.849967113544444, 47.7216609977, 51.956061034623154, 39.06477381648462, 34.43464640443333, 32.08408433027001, 39.748805211733334, 47.67780313468751, 46.7962851605125, 40.32480413667693, 33.958342260288894, 46.165994348544444, 38.017635993009996, 44.03483100071001, 50.40760423611737, 44.03483100071001, 39.825173057520004, 25.220244047692308, 38.101944264825, 31.212332164012494, 24.496020206762502, 45.058140185510005, 50.89705995131, 27.725456121762498, 45.07161511997143, 49.08731373543333, 30.82781441921111, 38.285291588562494, 32.75756878320834, 29.23137121960909, 37.8525675191, 36.79060032415, 31.213445526999998, 27.105064373877777, 37.463170814109084, 40.878444804611114, 42.325340412470005, 46.80708074236665, 45.846861060049996, 35.36522866844285, 42.13180473525454, 33.03547067388, 41.24662435776666, 38.97057078132727, 30.326212300492305, 28.80859803584444, 54.4849593196274, 42.781847586711116, 47.8024896616513, 32.44964289991429, 49.21672178573391, 46.29853193695714, 52.98997899976483, 42.04634033427143, 35.0797260744, 49.537396988187965, 49.56922343934637, 38.73164479217952, 25.897433027424434, 63.96737370786783, 46.116645444937504, 28.44980732454, 38.2219876984005, 51.70443612262858, 40.90154971371111, 28.91896215201297, 61.61351769645946, 36.45776201554444, 26.68526048454657, 39.820636294637495, 35.760384424671436, 56.69062590895802, 45.844623500414926, 44.34960325995714, 25.844630875500005, 38.449620393512504, 39.09847156482858, 36.841973151309865, 48.521662440875176, 44.1282167506875, 30.22188580273104, 55.36257605329855, 34.05538973446667, 47.46236871600827, 27.910125893600004, 52.19659611142585, 40.9440284745125, 36.401380868892005, 26.42902196779471, 49.49331608808102, 30.826889340418447, 45.2844051983417, 67.19340412808626, 45.980310534387506, 70.07874823092315, 38.96183544735966, 53.66519344087661, 56.871094143353204, 49.612722748545075, 13.603370438670376, 37.54742723052931, 46.07831709935617, 33.426936387081675, 28.459485348722183, 20.426577436836364, 37.7869640691375, 35.4317992018375, 26.116658503757147, 51.4655967952375, 41.97635707282551, 34.623431589917544, 39.048991364158454, 33.481284049785714, 25.323621138265736, 21.569907928499997, 47.746847855547756, 18.224034048622222, 48.53703868364347, 25.347522294671432, 55.12207406200189, 30.37919451601219, 58.93290887633463, 42.34420296701428, 49.39616373374169, 33.481284049785714, 48.74569915040711, 20.73886552964286, 36.281251896396896, 37.79134845865714, 53.46947441329089, 27.34108105798572, 25.286589834287504, 37.50816307336667, 20.398364292944443, 47.24697818082858, 49.67487397237545, 42.95784067167143, 27.504429232488892, 61.11786153671429, 36.42457435386192, 39.084550341341284, 26.310522017785715, 45.67974222243304, 24.19939848550438, 42.525859591675, 46.4912541035551, 34.8067060643625, 40.85751600110024, 39.68445352403333, 37.30810992741308, 24.890614618488414, 48.02658850646711, 33.54781820283911, 52.01074032514286, 43.753674232420295, 45.529578790457286, 71.75727876178543, 36.639900674163634, 45.43704782166153, 55.15139414912577, 45.079649233342856, 46.30306727552857, 64.29631952996624, 38.67164989823035, 46.93566613571424, 37.361748381171424, 33.158272542215805, 52.7505860509515, 30.107581677280336, 46.64698380603627, 30.376875344928887, 35.982799832488894, 28.355488600100003, 45.50015948411925, 51.53434304464127, 61.61121175505556, 41.954609293, 42.223441090542856, 31.053274026302827, 34.343215820673805, 30.414816390585717, 54.19610465775943, 41.7403903332375, 37.30331338795, 61.831067216814276, 22.546327473344448, 50.07219112432857, 34.5527993828875, 40.86447235203323, 12.479832528914292, 33.8953949542836, 21.685997004900006, 29.122725470266662, 42.980901550969996, 44.55694706612383, 34.602494026042855, 38.01224109732284, 29.380435549655402, 19.793771289475004, 45.05752601505109, 34.26510021235822, 33.95978639765715, 32.97710625594338, 42.04886411902501, 36.592263240885714, 35.90337109275213, 57.507986922857135, 39.92733231731428, 40.463950996909915, 39.6988297567625, 56.39971045197623, 20.039052336555795, 53.95654021533475, 31.15074126389371, 56.00621379608012, 28.077074699800004, 39.1479878796, 36.635124098022416, 21.598057191066804, 46.725319610453596, 25.695653451263045, 34.7597773789125, 34.415327333192906, 35.656579491622225, 51.01644209475891, 27.574036705484556, 40.26908986421864, 33.363141466100004, 32.98461083345715, 29.62344719724594, 22.07101642514225, 65.72032335121385, 57.46901366189392, 51.50644140695715, 40.89681098398889, 31.81209836084229, 21.65117992020863, 49.224758040271425, 39.05105064795842, 73.61757017936118, 44.06142182824, 30.04457121657677, 51.76687885291281, 32.799908574691, 37.11276573703618, 35.57397673164408, 42.1678529097875, 59.97303792652856, 44.0868332612375, 18.140417078532984, 45.984940475037064, 54.309786561296505, 61.99453337128571, 43.06232929181534, 60.61302566957142, 49.21841149595055, 57.69474009288571, 43.8310549006125, 55.00408599235353, 34.282087883624655, 59.09178683264285, 34.17857133935, 36.04180285531719, 27.978262025371436, 42.5759262777375, 30.49495721897249, 64.18478328608161, 49.31840726094916, 26.37001266913636, 37.50591922172857, 28.005107249814294, 20.80304032041418, 30.91872515146369, 33.040401160028225, 44.86393307619711, 53.094912573063375, 28.1690759223375, 38.7024042382875, 35.03555415767481, 40.98876243761484, 54.891028241475006, 37.05719665674286, 50.041864891442856, 62.024647062099994, 35.932481022, 55.40845203362769, 47.913228323, 53.591981258373146, 43.39306281981111, 54.90466461290149, 31.468170906951713, 36.40924040661177, 20.875105145844348, 34.3505164807875, 22.936195208432224, 40.290870074291206, 44.113370379775, 49.07198476741925, 29.380435549655402, 31.316453671261026, 43.20384627513333, 47.002490881731326, 27.229831258104266, 43.972329419742856, 43.60732953024514, 32.86791261938572, 29.56609973999091, 25.25000439293342, 45.401731624486885, 29.765999372554038, 45.1751224455143, 46.953079585048684, 44.528617413412505, 46.54780106661125, 44.55308325925865, 29.291220048671434, 32.301938962128574, 14.940354106771434, 28.665166855377777, 36.597665356283095, 36.405971634100005, 35.49886947237143, 21.253277213477055, 34.5655692846, 63.007302422359054, 55.891636540931955, 45.985129561095455, 40.58184493475715, 23.34415502483333, 17.633452406225, 35.439638980690994, 50.22285731990327, 40.45597220831251, 44.8912593126125, 39.1609446059069, 39.37951663430693, 16.273878329364273, 31.039768402669687, 22.52610152347125, 35.439638980690994, 36.81824347386029, 19.956892565540265, 22.92821774861567, 32.158363633942855, 60.566695127943845, 28.852965627490004, 60.571545163792884, 45.306230927588224, 28.167383806926246, 33.87243247702768]\n"
          ],
          "name": "stdout"
        }
      ]
    },
    {
      "cell_type": "markdown",
      "metadata": {
        "id": "2b1oPpPwJnXj",
        "colab_type": "text"
      },
      "source": [
        "After Correction"
      ]
    },
    {
      "cell_type": "code",
      "metadata": {
        "id": "fU8aMyAWGa6J",
        "colab_type": "code",
        "colab": {}
      },
      "source": [
        "sample_score = cur_score\n",
        "h = sorted(sample_score)\n",
        "\n",
        "pl.hist(h, color = \"blue\", rwidth=0.75)\n",
        "\n",
        "pl.show()"
      ],
      "execution_count": null,
      "outputs": []
    },
    {
      "cell_type": "markdown",
      "metadata": {
        "id": "o1utIj4pJvBW",
        "colab_type": "text"
      },
      "source": [
        "Uncomment it if working on forecast score"
      ]
    },
    {
      "cell_type": "code",
      "metadata": {
        "id": "qZGx95xH3xzJ",
        "colab_type": "code",
        "colab": {
          "base_uri": "https://localhost:8080/",
          "height": 397
        },
        "outputId": "30d6b8ef-0a6c-4860-abf9-1ad646ca02d6"
      },
      "source": [
        "# df.insert(11,\"Forecast_trend\",cur_score)\n",
        "# df.head()"
      ],
      "execution_count": null,
      "outputs": [
        {
          "output_type": "execute_result",
          "data": {
            "text/html": [
              "<div>\n",
              "<style scoped>\n",
              "    .dataframe tbody tr th:only-of-type {\n",
              "        vertical-align: middle;\n",
              "    }\n",
              "\n",
              "    .dataframe tbody tr th {\n",
              "        vertical-align: top;\n",
              "    }\n",
              "\n",
              "    .dataframe thead th {\n",
              "        text-align: right;\n",
              "    }\n",
              "</style>\n",
              "<table border=\"1\" class=\"dataframe\">\n",
              "  <thead>\n",
              "    <tr style=\"text-align: right;\">\n",
              "      <th></th>\n",
              "      <th>Title</th>\n",
              "      <th>Title_URL</th>\n",
              "      <th>Image</th>\n",
              "      <th>Price</th>\n",
              "      <th>Category</th>\n",
              "      <th>Brand</th>\n",
              "      <th>Color</th>\n",
              "      <th>Attributes</th>\n",
              "      <th>Description</th>\n",
              "      <th>Site</th>\n",
              "      <th>Current_trend</th>\n",
              "      <th>Forecast_trend</th>\n",
              "    </tr>\n",
              "  </thead>\n",
              "  <tbody>\n",
              "    <tr>\n",
              "      <th>0</th>\n",
              "      <td>ASOS DESIGN fallen shoulder scuba jumpsuit in ...</td>\n",
              "      <td>https://www.asos.com/asos-design/asos-design-f...</td>\n",
              "      <td>https://images.asos-media.com/products/asos-de...</td>\n",
              "      <td>45.0</td>\n",
              "      <td>Jumpsuit</td>\n",
              "      <td>ASOS DESIGN</td>\n",
              "      <td>Natural blush</td>\n",
              "      <td>Jumpsuit by ASOS DESIGN, No need for a dress t...</td>\n",
              "      <td>Thick, scuba-style fabric, Super-smooth and st...</td>\n",
              "      <td>ASOS</td>\n",
              "      <td>24.927721</td>\n",
              "      <td>25.754815</td>\n",
              "    </tr>\n",
              "    <tr>\n",
              "      <th>1</th>\n",
              "      <td>ASOS DESIGN tie waist jumpsuit in stone</td>\n",
              "      <td>https://www.asos.com/asos-design/asos-design-t...</td>\n",
              "      <td>https://images.asos-media.com/products/asos-de...</td>\n",
              "      <td>35.0</td>\n",
              "      <td>Jumpsuit</td>\n",
              "      <td>ASOS DESIGN</td>\n",
              "      <td>stone</td>\n",
              "      <td>Jumpsuit by ASOS DESIGN, Part of our responsib...</td>\n",
              "      <td>Woven fabric, Lightweight, soft Lenzing™ Eco, ...</td>\n",
              "      <td>ASOS</td>\n",
              "      <td>29.707357</td>\n",
              "      <td>53.223807</td>\n",
              "    </tr>\n",
              "    <tr>\n",
              "      <th>2</th>\n",
              "      <td>Vero Moda linen playsuit with tie waist in white</td>\n",
              "      <td>https://www.asos.com/vero-moda/vero-moda-linen...</td>\n",
              "      <td>https://images.asos-media.com/products/vero-mo...</td>\n",
              "      <td>28.0</td>\n",
              "      <td>Playsuit</td>\n",
              "      <td>Vero Moda</td>\n",
              "      <td>white</td>\n",
              "      <td>Playsuit by Vero Moda, All in for the all-in-o...</td>\n",
              "      <td>Linen-rich fabric, Strong and breathable, Body...</td>\n",
              "      <td>ASOS</td>\n",
              "      <td>31.543639</td>\n",
              "      <td>25.100633</td>\n",
              "    </tr>\n",
              "    <tr>\n",
              "      <th>3</th>\n",
              "      <td>Noisy May layered jumpsuit in black</td>\n",
              "      <td>https://www.asos.com/noisy-may/noisy-may-layer...</td>\n",
              "      <td>https://images.asos-media.com/products/noisy-m...</td>\n",
              "      <td>38.0</td>\n",
              "      <td>Jumpsuit</td>\n",
              "      <td>Noisy May</td>\n",
              "      <td>black</td>\n",
              "      <td>Jumpsuit by Noisy May, An easy wardrobe win, W...</td>\n",
              "      <td>Lightweight woven fabric Soft and drapey, Lini...</td>\n",
              "      <td>ASOS</td>\n",
              "      <td>45.347356</td>\n",
              "      <td>60.032856</td>\n",
              "    </tr>\n",
              "    <tr>\n",
              "      <th>4</th>\n",
              "      <td>ASOS DESIGN satin playsuit with drape detail i...</td>\n",
              "      <td>https://www.asos.com/asos-design/asos-design-s...</td>\n",
              "      <td>https://images.asos-media.com/products/asos-de...</td>\n",
              "      <td>55.0</td>\n",
              "      <td>Playsuit</td>\n",
              "      <td>ASOS DESIGN</td>\n",
              "      <td>Lilac floral</td>\n",
              "      <td>Playsuit by ASOS DESIGN, Worth making plans fo...</td>\n",
              "      <td>Glossy, satin-style fabric Silky-smooth and dr...</td>\n",
              "      <td>ASOS</td>\n",
              "      <td>12.579442</td>\n",
              "      <td>15.323758</td>\n",
              "    </tr>\n",
              "  </tbody>\n",
              "</table>\n",
              "</div>"
            ],
            "text/plain": [
              "                                               Title  ... Forecast_trend\n",
              "0  ASOS DESIGN fallen shoulder scuba jumpsuit in ...  ...      25.754815\n",
              "1            ASOS DESIGN tie waist jumpsuit in stone  ...      53.223807\n",
              "2   Vero Moda linen playsuit with tie waist in white  ...      25.100633\n",
              "3                Noisy May layered jumpsuit in black  ...      60.032856\n",
              "4  ASOS DESIGN satin playsuit with drape detail i...  ...      15.323758\n",
              "\n",
              "[5 rows x 12 columns]"
            ]
          },
          "metadata": {
            "tags": []
          },
          "execution_count": 76
        }
      ]
    },
    {
      "cell_type": "markdown",
      "metadata": {
        "id": "ENvfSRooJ0kT",
        "colab_type": "text"
      },
      "source": [
        "Saving it in excel and json format. The Json format is used by elastic search for website."
      ]
    },
    {
      "cell_type": "code",
      "metadata": {
        "id": "y97R33nVpegF",
        "colab_type": "code",
        "colab": {}
      },
      "source": [
        "df.to_json(\"complete_score_square_corr.json\",orient='records')\n",
        "df.to_excel(\"complete_score_square_corr.xlsx\", index=False)"
      ],
      "execution_count": null,
      "outputs": []
    }
  ]
}
